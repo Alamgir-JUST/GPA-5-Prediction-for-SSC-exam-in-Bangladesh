{
 "cells": [
  {
   "cell_type": "markdown",
   "id": "be8d7dd3",
   "metadata": {},
   "source": [
    "# GPA-5 Prediction for SSC exam in Bangladesh "
   ]
  },
  {
   "cell_type": "code",
   "execution_count": 1,
   "id": "6338709e",
   "metadata": {},
   "outputs": [],
   "source": [
    "#Importing Libraries\n",
    "import numpy as np\n",
    "import matplotlib.pyplot as plt\n",
    "import pandas as pd\n",
    "import seaborn as sns"
   ]
  },
  {
   "cell_type": "code",
   "execution_count": 2,
   "id": "38ce1c73",
   "metadata": {},
   "outputs": [],
   "source": [
    "#Importing dataset\n",
    "df = pd.read_csv('gpa5.csv')"
   ]
  },
  {
   "cell_type": "code",
   "execution_count": 3,
   "id": "43ccc5ec",
   "metadata": {},
   "outputs": [
    {
     "data": {
      "text/html": [
       "<div>\n",
       "<style scoped>\n",
       "    .dataframe tbody tr th:only-of-type {\n",
       "        vertical-align: middle;\n",
       "    }\n",
       "\n",
       "    .dataframe tbody tr th {\n",
       "        vertical-align: top;\n",
       "    }\n",
       "\n",
       "    .dataframe thead th {\n",
       "        text-align: right;\n",
       "    }\n",
       "</style>\n",
       "<table border=\"1\" class=\"dataframe\">\n",
       "  <thead>\n",
       "    <tr style=\"text-align: right;\">\n",
       "      <th></th>\n",
       "      <th>year</th>\n",
       "      <th>students</th>\n",
       "    </tr>\n",
       "  </thead>\n",
       "  <tbody>\n",
       "    <tr>\n",
       "      <th>0</th>\n",
       "      <td>2001</td>\n",
       "      <td>76</td>\n",
       "    </tr>\n",
       "    <tr>\n",
       "      <th>1</th>\n",
       "      <td>2002</td>\n",
       "      <td>327</td>\n",
       "    </tr>\n",
       "    <tr>\n",
       "      <th>2</th>\n",
       "      <td>2003</td>\n",
       "      <td>1389</td>\n",
       "    </tr>\n",
       "    <tr>\n",
       "      <th>3</th>\n",
       "      <td>2004</td>\n",
       "      <td>8597</td>\n",
       "    </tr>\n",
       "    <tr>\n",
       "      <th>4</th>\n",
       "      <td>2005</td>\n",
       "      <td>15631</td>\n",
       "    </tr>\n",
       "    <tr>\n",
       "      <th>5</th>\n",
       "      <td>2006</td>\n",
       "      <td>24384</td>\n",
       "    </tr>\n",
       "    <tr>\n",
       "      <th>6</th>\n",
       "      <td>2007</td>\n",
       "      <td>25732</td>\n",
       "    </tr>\n",
       "    <tr>\n",
       "      <th>7</th>\n",
       "      <td>2008</td>\n",
       "      <td>41917</td>\n",
       "    </tr>\n",
       "    <tr>\n",
       "      <th>8</th>\n",
       "      <td>2009</td>\n",
       "      <td>45934</td>\n",
       "    </tr>\n",
       "    <tr>\n",
       "      <th>9</th>\n",
       "      <td>2010</td>\n",
       "      <td>52134</td>\n",
       "    </tr>\n",
       "    <tr>\n",
       "      <th>10</th>\n",
       "      <td>2011</td>\n",
       "      <td>62288</td>\n",
       "    </tr>\n",
       "    <tr>\n",
       "      <th>11</th>\n",
       "      <td>2012</td>\n",
       "      <td>82212</td>\n",
       "    </tr>\n",
       "    <tr>\n",
       "      <th>12</th>\n",
       "      <td>2013</td>\n",
       "      <td>91226</td>\n",
       "    </tr>\n",
       "    <tr>\n",
       "      <th>13</th>\n",
       "      <td>2014</td>\n",
       "      <td>142276</td>\n",
       "    </tr>\n",
       "    <tr>\n",
       "      <th>14</th>\n",
       "      <td>2015</td>\n",
       "      <td>111901</td>\n",
       "    </tr>\n",
       "    <tr>\n",
       "      <th>15</th>\n",
       "      <td>2016</td>\n",
       "      <td>109761</td>\n",
       "    </tr>\n",
       "    <tr>\n",
       "      <th>16</th>\n",
       "      <td>2017</td>\n",
       "      <td>104761</td>\n",
       "    </tr>\n",
       "    <tr>\n",
       "      <th>17</th>\n",
       "      <td>2018</td>\n",
       "      <td>110629</td>\n",
       "    </tr>\n",
       "    <tr>\n",
       "      <th>18</th>\n",
       "      <td>2019</td>\n",
       "      <td>105594</td>\n",
       "    </tr>\n",
       "    <tr>\n",
       "      <th>19</th>\n",
       "      <td>2020</td>\n",
       "      <td>135898</td>\n",
       "    </tr>\n",
       "    <tr>\n",
       "      <th>20</th>\n",
       "      <td>2021</td>\n",
       "      <td>183340</td>\n",
       "    </tr>\n",
       "    <tr>\n",
       "      <th>21</th>\n",
       "      <td>2022</td>\n",
       "      <td>269602</td>\n",
       "    </tr>\n",
       "  </tbody>\n",
       "</table>\n",
       "</div>"
      ],
      "text/plain": [
       "      year  students\n",
       "0     2001        76\n",
       "1     2002       327\n",
       "2     2003      1389\n",
       "3     2004      8597\n",
       "4     2005     15631\n",
       "5     2006     24384\n",
       "6     2007     25732\n",
       "7     2008     41917\n",
       "8     2009     45934\n",
       "9     2010     52134\n",
       "10    2011     62288\n",
       "11    2012     82212\n",
       "12    2013     91226\n",
       "13    2014    142276\n",
       "14    2015    111901\n",
       "15    2016    109761\n",
       "16    2017    104761\n",
       "17    2018    110629\n",
       "18    2019    105594\n",
       "19    2020    135898\n",
       "20    2021    183340\n",
       "21    2022    269602"
      ]
     },
     "execution_count": 3,
     "metadata": {},
     "output_type": "execute_result"
    }
   ],
   "source": [
    "df"
   ]
  },
  {
   "cell_type": "code",
   "execution_count": 4,
   "id": "c52d7072",
   "metadata": {},
   "outputs": [
    {
     "data": {
      "text/plain": [
       "(22, 2)"
      ]
     },
     "execution_count": 4,
     "metadata": {},
     "output_type": "execute_result"
    }
   ],
   "source": [
    "#Shape of the datset\n",
    "df.shape"
   ]
  },
  {
   "cell_type": "code",
   "execution_count": 5,
   "id": "b43c3d65",
   "metadata": {},
   "outputs": [
    {
     "data": {
      "text/plain": [
       "year        0\n",
       "students    0\n",
       "dtype: int64"
      ]
     },
     "execution_count": 5,
     "metadata": {},
     "output_type": "execute_result"
    }
   ],
   "source": [
    "#Null Value Checking\n",
    "df.isnull().sum()"
   ]
  },
  {
   "cell_type": "code",
   "execution_count": 6,
   "id": "86aeaee5",
   "metadata": {},
   "outputs": [
    {
     "data": {
      "text/plain": [
       "Text(0, 0.5, 'No. of Students got GPA-5')"
      ]
     },
     "execution_count": 6,
     "metadata": {},
     "output_type": "execute_result"
    },
    {
     "data": {
      "image/png": "[encoded data removed]",
      "text/plain": [
       "<Figure size 432x288 with 1 Axes>"
      ]
     },
     "metadata": {
      "needs_background": "light"
     },
     "output_type": "display_data"
    }
   ],
   "source": [
    "#Scatter Plot\n",
    "plt.scatter(df['year'], df['students'], marker = '+', color = 'green')\n",
    "plt.title('Data Plot for Number of GPA-5 Students over Year')\n",
    "plt.xlabel('Year')\n",
    "plt.ylabel('No. of Students got GPA-5')"
   ]
  },
  {
   "cell_type": "markdown",
   "id": "d0dbe26a",
   "metadata": {},
   "source": [
    "# Dividing the Dataset into Feature and labels"
   ]
  },
  {
   "cell_type": "code",
   "execution_count": 7,
   "id": "ce2c8a65",
   "metadata": {},
   "outputs": [],
   "source": [
    "x = df[['year']]\n",
    "y = df[['students']]"
   ]
  },
  {
   "cell_type": "markdown",
   "id": "1fd02b9b",
   "metadata": {},
   "source": [
    "# Splitting the Dataset into Train and Testing"
   ]
  },
  {
   "cell_type": "code",
   "execution_count": 33,
   "id": "b4fba623",
   "metadata": {},
   "outputs": [],
   "source": [
    "from sklearn.model_selection import train_test_split\n",
    "xtrain, xtest, ytrain, ytest = train_test_split(x, y, test_size=.30, random_state = 1)"
   ]
  },
  {
   "cell_type": "markdown",
   "id": "4f31c94b",
   "metadata": {},
   "source": [
    "# Model Developing using Linear Regression"
   ]
  },
  {
   "cell_type": "code",
   "execution_count": 34,
   "id": "58e16139",
   "metadata": {},
   "outputs": [],
   "source": [
    "from sklearn.linear_model import LinearRegression"
   ]
  },
  {
   "cell_type": "code",
   "execution_count": 35,
   "id": "e894cbf6",
   "metadata": {},
   "outputs": [],
   "source": [
    "lr = LinearRegression()"
   ]
  },
  {
   "cell_type": "code",
   "execution_count": 36,
   "id": "56466d85",
   "metadata": {},
   "outputs": [
    {
     "data": {
      "text/plain": [
       "LinearRegression()"
      ]
     },
     "execution_count": 36,
     "metadata": {},
     "output_type": "execute_result"
    }
   ],
   "source": [
    "lr.fit(xtrain, ytrain)"
   ]
  },
  {
   "cell_type": "code",
   "execution_count": 37,
   "id": "ee7660a3",
   "metadata": {},
   "outputs": [
    {
     "data": {
      "text/plain": [
       "array([[176158.02988306],\n",
       "       [144010.66944565],\n",
       "       [  4705.4408835 ],\n",
       "       [111863.30900823],\n",
       "       [165442.24307059],\n",
       "       [133294.88263317],\n",
       "       [ 79715.94857081]])"
      ]
     },
     "execution_count": 37,
     "metadata": {},
     "output_type": "execute_result"
    }
   ],
   "source": [
    "lr.predict(xtest)"
   ]
  },
  {
   "cell_type": "code",
   "execution_count": 38,
   "id": "87efb194",
   "metadata": {},
   "outputs": [
    {
     "data": {
      "text/plain": [
       "array([[208305.39032048]])"
      ]
     },
     "execution_count": 38,
     "metadata": {},
     "output_type": "execute_result"
    }
   ],
   "source": [
    "lr.predict([[2023]])"
   ]
  },
  {
   "cell_type": "code",
   "execution_count": 39,
   "id": "6bf5f78c",
   "metadata": {},
   "outputs": [
    {
     "data": {
      "text/plain": [
       "0.33617382781318683"
      ]
     },
     "execution_count": 39,
     "metadata": {},
     "output_type": "execute_result"
    }
   ],
   "source": [
    "lr.score(xtest, ytest)"
   ]
  },
  {
   "cell_type": "markdown",
   "id": "e42c5cb0",
   "metadata": {},
   "source": [
    "# Model Developing using Random Forest Regressor"
   ]
  },
  {
   "cell_type": "code",
   "execution_count": 40,
   "id": "879b649f",
   "metadata": {},
   "outputs": [],
   "source": [
    "from sklearn.ensemble import RandomForestRegressor"
   ]
  },
  {
   "cell_type": "code",
   "execution_count": 41,
   "id": "5f5d1f5d",
   "metadata": {},
   "outputs": [
    {
     "name": "stderr",
     "output_type": "stream",
     "text": [
      "C:\\Users\\user\\AppData\\Local\\Temp/ipykernel_6920/3889765417.py:2: DataConversionWarning: A column-vector y was passed when a 1d array was expected. Please change the shape of y to (n_samples,), for example using ravel().\n",
      "  rfr.fit(xtrain, ytrain)\n"
     ]
    },
    {
     "data": {
      "text/plain": [
       "RandomForestRegressor()"
      ]
     },
     "execution_count": 41,
     "metadata": {},
     "output_type": "execute_result"
    }
   ],
   "source": [
    "rfr = RandomForestRegressor()\n",
    "rfr.fit(xtrain, ytrain)"
   ]
  },
  {
   "cell_type": "code",
   "execution_count": 42,
   "id": "44c9432e",
   "metadata": {},
   "outputs": [
    {
     "data": {
      "text/plain": [
       "array([172634.45, 113316.61,   6090.42,  93104.34, 134824.73, 111828.29,\n",
       "        58044.52])"
      ]
     },
     "execution_count": 42,
     "metadata": {},
     "output_type": "execute_result"
    }
   ],
   "source": [
    "rfr.predict(xtest)"
   ]
  },
  {
   "cell_type": "code",
   "execution_count": 43,
   "id": "faa9505f",
   "metadata": {},
   "outputs": [
    {
     "data": {
      "text/plain": [
       "0.6328641302036349"
      ]
     },
     "execution_count": 43,
     "metadata": {},
     "output_type": "execute_result"
    }
   ],
   "source": [
    "rfr.score(xtest, ytest)"
   ]
  },
  {
   "cell_type": "markdown",
   "id": "562c5332",
   "metadata": {},
   "source": [
    "# Model Developing using Decision Tree Regressor"
   ]
  },
  {
   "cell_type": "code",
   "execution_count": 44,
   "id": "233a02c5",
   "metadata": {},
   "outputs": [],
   "source": [
    "from sklearn.tree import DecisionTreeRegressor"
   ]
  },
  {
   "cell_type": "code",
   "execution_count": 45,
   "id": "a80aee63",
   "metadata": {},
   "outputs": [],
   "source": [
    "dtr = DecisionTreeRegressor()"
   ]
  },
  {
   "cell_type": "code",
   "execution_count": 46,
   "id": "94f4b1c4",
   "metadata": {},
   "outputs": [
    {
     "data": {
      "text/plain": [
       "DecisionTreeRegressor()"
      ]
     },
     "execution_count": 46,
     "metadata": {},
     "output_type": "execute_result"
    }
   ],
   "source": [
    "dtr.fit(xtrain, ytrain)"
   ]
  },
  {
   "cell_type": "code",
   "execution_count": 47,
   "id": "6b0f209b",
   "metadata": {},
   "outputs": [
    {
     "data": {
      "text/plain": [
       "array([183340., 110629.,   1389.,  91226., 110629., 111901.,  52134.])"
      ]
     },
     "execution_count": 47,
     "metadata": {},
     "output_type": "execute_result"
    }
   ],
   "source": [
    "dtr.predict(xtest)"
   ]
  },
  {
   "cell_type": "code",
   "execution_count": 48,
   "id": "a54db840",
   "metadata": {},
   "outputs": [
    {
     "data": {
      "text/plain": [
       "0.6054547632020688"
      ]
     },
     "execution_count": 48,
     "metadata": {},
     "output_type": "execute_result"
    }
   ],
   "source": [
    "dtr.score(xtest, ytest)"
   ]
  },
  {
   "cell_type": "markdown",
   "id": "bfc0214e",
   "metadata": {},
   "source": [
    "# Model Developing using Gradient Boosting Regressor"
   ]
  },
  {
   "cell_type": "code",
   "execution_count": 49,
   "id": "5ddeb2ca",
   "metadata": {},
   "outputs": [],
   "source": [
    "from sklearn.ensemble import GradientBoostingRegressor"
   ]
  },
  {
   "cell_type": "code",
   "execution_count": 50,
   "id": "d1f83aff",
   "metadata": {},
   "outputs": [],
   "source": [
    "gbr = GradientBoostingRegressor()"
   ]
  },
  {
   "cell_type": "code",
   "execution_count": 51,
   "id": "4ced827b",
   "metadata": {},
   "outputs": [
    {
     "name": "stderr",
     "output_type": "stream",
     "text": [
      "J:\\ML\\Anaconda\\lib\\site-packages\\sklearn\\utils\\validation.py:63: DataConversionWarning: A column-vector y was passed when a 1d array was expected. Please change the shape of y to (n_samples, ), for example using ravel().\n",
      "  return f(*args, **kwargs)\n"
     ]
    },
    {
     "data": {
      "text/plain": [
       "GradientBoostingRegressor()"
      ]
     },
     "execution_count": 51,
     "metadata": {},
     "output_type": "execute_result"
    }
   ],
   "source": [
    "gbr.fit(xtrain, ytrain)"
   ]
  },
  {
   "cell_type": "code",
   "execution_count": 52,
   "id": "b9be797e",
   "metadata": {},
   "outputs": [
    {
     "data": {
      "text/plain": [
       "array([183336.17557251, 110630.43297346,   1391.2484858 ,  91225.30035193,\n",
       "       110630.43297346, 111895.37983815,  52134.27320028])"
      ]
     },
     "execution_count": 52,
     "metadata": {},
     "output_type": "execute_result"
    }
   ],
   "source": [
    "gbr.predict(xtest)"
   ]
  },
  {
   "cell_type": "code",
   "execution_count": 53,
   "id": "4064c3e8",
   "metadata": {},
   "outputs": [
    {
     "data": {
      "text/plain": [
       "0.605479802296492"
      ]
     },
     "execution_count": 53,
     "metadata": {},
     "output_type": "execute_result"
    }
   ],
   "source": [
    "gbr.score(xtest, ytest)"
   ]
  },
  {
   "cell_type": "markdown",
   "id": "24397c67",
   "metadata": {},
   "source": [
    "# Plot individual and voting regression predictions"
   ]
  },
  {
   "cell_type": "markdown",
   "id": "b3361ed1",
   "metadata": {},
   "source": [
    "# Making predictions"
   ]
  },
  {
   "cell_type": "code",
   "execution_count": 67,
   "id": "b5ce4d2e",
   "metadata": {},
   "outputs": [
    {
     "name": "stderr",
     "output_type": "stream",
     "text": [
      "J:\\ML\\Anaconda\\lib\\site-packages\\sklearn\\utils\\validation.py:63: DataConversionWarning: A column-vector y was passed when a 1d array was expected. Please change the shape of y to (n_samples, ), for example using ravel().\n",
      "  return f(*args, **kwargs)\n"
     ]
    },
    {
     "data": {
      "text/plain": [
       "VotingRegressor(estimators=[('lr', LinearRegression()),\n",
       "                            ('rfr', RandomForestRegressor()),\n",
       "                            ('dtr', DecisionTreeRegressor()),\n",
       "                            ('gbr', GradientBoostingRegressor())])"
      ]
     },
     "execution_count": 67,
     "metadata": {},
     "output_type": "execute_result"
    }
   ],
   "source": [
    "from sklearn.ensemble import VotingRegressor\n",
    "vr = VotingRegressor([(\"lr\", lr), (\"rfr\", rfr), (\"dtr\", dtr), (\"gbr\", gbr)])\n",
    "vr.fit(xtrain, ytrain)"
   ]
  },
  {
   "cell_type": "code",
   "execution_count": 69,
   "id": "d3e404cf",
   "metadata": {},
   "outputs": [],
   "source": [
    "pred1 = lr.predict(xtest)\n",
    "pred2 = rfr.predict(xtest)\n",
    "pred3 = dtr.predict(xtest)\n",
    "pred4 = gbr.predict(xtest)\n",
    "pred5 = vr.predict(xtest)"
   ]
  },
  {
   "cell_type": "code",
   "execution_count": 70,
   "id": "f941bbe5",
   "metadata": {},
   "outputs": [
    {
     "data": {
      "image/png": "[encoded data removed]",
      "text/plain": [
       "<Figure size 432x288 with 1 Axes>"
      ]
     },
     "metadata": {
      "needs_background": "light"
     },
     "output_type": "display_data"
    }
   ],
   "source": [
    "plt.figure()\n",
    "plt.plot(pred1, \"gd\", label=\"LinearRegression\")\n",
    "plt.plot(pred2, \"b^\", label=\"RandomForestRegressor\")\n",
    "plt.plot(pred3, \"ys\", label=\"DecisionTreeRegressor\")\n",
    "plt.plot(pred4, \"r*\", ms=10, label=\"GradientBoostingRegressor\")\n",
    "plt.plot(pred5, \"g*\", ms=10, label=\"VotingRegressor\")\n",
    "\n",
    "plt.tick_params(axis=\"x\", which=\"both\", bottom=False, top=False, labelbottom=False)\n",
    "plt.ylabel(\"Predicted\")\n",
    "plt.xlabel(\"Training samples\")\n",
    "plt.legend(loc=\"best\")\n",
    "plt.title(\"Regressor predictions and their Average\")\n",
    "\n",
    "plt.show()"
   ]
  },
  {
   "cell_type": "markdown",
   "id": "540f829e",
   "metadata": {},
   "source": [
    "# Thank you Very Much"
   ]
  }
 ],
 "metadata": {
  "kernelspec": {
   "display_name": "Python 3 (ipykernel)",
   "language": "python",
   "name": "python3"
  },
  "language_info": {
   "codemirror_mode": {
    "name": "ipython",
    "version": 3
   },
   "file_extension": ".py",
   "mimetype": "text/x-python",
   "name": "python",
   "nbconvert_exporter": "python",
   "pygments_lexer": "ipython3",
   "version": "3.9.7"
  }
 },
 "nbformat": 4,
 "nbformat_minor": 5
}
